{
 "cells": [
  {
   "cell_type": "code",
   "execution_count": 1,
   "metadata": {},
   "outputs": [],
   "source": [
    "import pandas as pd\n",
    "import numpy as np"
   ]
  },
  {
   "cell_type": "code",
   "execution_count": 2,
   "metadata": {},
   "outputs": [
    {
     "data": {
      "text/html": [
       "<div>\n",
       "<style scoped>\n",
       "    .dataframe tbody tr th:only-of-type {\n",
       "        vertical-align: middle;\n",
       "    }\n",
       "\n",
       "    .dataframe tbody tr th {\n",
       "        vertical-align: top;\n",
       "    }\n",
       "\n",
       "    .dataframe thead th {\n",
       "        text-align: right;\n",
       "    }\n",
       "</style>\n",
       "<table border=\"1\" class=\"dataframe\">\n",
       "  <thead>\n",
       "    <tr style=\"text-align: right;\">\n",
       "      <th></th>\n",
       "      <th>ear</th>\n",
       "      <th>mar</th>\n",
       "    </tr>\n",
       "  </thead>\n",
       "  <tbody>\n",
       "    <tr>\n",
       "      <td>0</td>\n",
       "      <td>0.29</td>\n",
       "      <td>0.53</td>\n",
       "    </tr>\n",
       "    <tr>\n",
       "      <td>1</td>\n",
       "      <td>0.31</td>\n",
       "      <td>0.53</td>\n",
       "    </tr>\n",
       "    <tr>\n",
       "      <td>2</td>\n",
       "      <td>0.30</td>\n",
       "      <td>0.34</td>\n",
       "    </tr>\n",
       "    <tr>\n",
       "      <td>3</td>\n",
       "      <td>0.31</td>\n",
       "      <td>0.32</td>\n",
       "    </tr>\n",
       "    <tr>\n",
       "      <td>4</td>\n",
       "      <td>0.27</td>\n",
       "      <td>0.35</td>\n",
       "    </tr>\n",
       "  </tbody>\n",
       "</table>\n",
       "</div>"
      ],
      "text/plain": [
       "    ear   mar\n",
       "0  0.29  0.53\n",
       "1  0.31  0.53\n",
       "2  0.30  0.34\n",
       "3  0.31  0.32\n",
       "4  0.27  0.35"
      ]
     },
     "execution_count": 2,
     "metadata": {},
     "output_type": "execute_result"
    }
   ],
   "source": [
    "df = pd.read_csv('Person 3/drowsy_P3.csv')\n",
    "df.head()"
   ]
  },
  {
   "cell_type": "code",
   "execution_count": 3,
   "metadata": {},
   "outputs": [
    {
     "data": {
      "text/plain": [
       "array([[0.53],\n",
       "       [0.53],\n",
       "       [0.34],\n",
       "       ...,\n",
       "       [0.41],\n",
       "       [0.41],\n",
       "       [0.41]])"
      ]
     },
     "execution_count": 3,
     "metadata": {},
     "output_type": "execute_result"
    }
   ],
   "source": [
    "df.iloc[:,1:].values"
   ]
  },
  {
   "cell_type": "code",
   "execution_count": 4,
   "metadata": {},
   "outputs": [
    {
     "data": {
      "text/plain": [
       "(3117, 3117)"
      ]
     },
     "execution_count": 4,
     "metadata": {},
     "output_type": "execute_result"
    }
   ],
   "source": [
    "import math\n",
    "ear=df.iloc[:,0:1].values\n",
    "mar = df.iloc[:,1:].values\n",
    "len(ear), len(mar)\n",
    "\n"
   ]
  },
  {
   "cell_type": "code",
   "execution_count": 8,
   "metadata": {},
   "outputs": [
    {
     "data": {
      "text/plain": [
       "156"
      ]
     },
     "execution_count": 8,
     "metadata": {},
     "output_type": "execute_result"
    }
   ],
   "source": [
    "n = math.ceil(len(ear)/20)\n",
    "n"
   ]
  },
  {
   "cell_type": "code",
   "execution_count": 9,
   "metadata": {},
   "outputs": [],
   "source": [
    "ear_a = np.array_split(ear, n)\n",
    "mar_a = np.array_split(mar, n)"
   ]
  },
  {
   "cell_type": "code",
   "execution_count": 10,
   "metadata": {},
   "outputs": [
    {
     "name": "stdout",
     "output_type": "stream",
     "text": [
      "[0.31, 0.33, 0.33, 0.3, 0.33, 0.29, 0.26, 0.27, 0.28, 0.3, 0.31, 0.28, 0.28, 0.3, 0.31, 0.29, 0.28, 0.29, 0.3, 0.31, 0.43, 0.29, 0.32, 0.29, 0.3, 0.27, 0.31, 0.26, 0.21, 0.31, 0.32, 0.3, 0.28, 0.27, 0.34, 0.35, 0.29, 0.29, 0.29, 0.34, 0.31, 0.29, 0.34, 0.38, 0.38, 0.38, 0.37, 0.23, 0.32, 0.38, 0.42, 0.4, 0.38, 0.35, 0.36, 0.37, 0.35, 0.37, 0.33, 0.36, 0.35, 0.35, 0.31, 0.34, 0.37, 0.35, 0.33, 0.33, 0.33, 0.39, 0.34, 0.33, 0.34, 0.34, 0.36, 0.34, 0.38, 0.38, 0.38, 0.36, 0.37, 0.37, 0.38, 0.38, 0.37, 0.34, 0.33, 0.37, 0.37, 0.34, 0.35, 0.35, 0.35, 0.36, 0.37, 0.34, 0.31, 0.3, 0.24, 0.36, 0.39, 0.39, 0.33, 0.34, 0.36, 0.35, 0.37, 0.35, 0.36, 0.36, 0.34, 0.32, 0.3, 0.37, 0.37, 0.35, 0.36, 0.36, 0.36, 0.39, 0.38, 0.33, 0.24, 0.36, 0.37, 0.35, 0.32, 0.36, 0.36, 0.35, 0.36, 0.37, 0.38, 0.35, 0.37, 0.34, 0.29, 0.32, 0.33, 0.25, 0.24, 0.39, 0.36, 0.34, 0.34, 0.36, 0.35, 0.35, 0.34, 0.36, 0.34, 0.34, 0.4, 0.42, 0.39, 0.37]\n"
     ]
    },
    {
     "data": {
      "text/plain": [
       "156"
      ]
     },
     "execution_count": 10,
     "metadata": {},
     "output_type": "execute_result"
    }
   ],
   "source": [
    "ear_c = []\n",
    "for i in ear_a:\n",
    "    ear_i = np.amax(i)\n",
    "    ear_c.append(ear_i)\n",
    "    \n",
    "print(ear_c)\n",
    "len(ear_c)"
   ]
  },
  {
   "cell_type": "code",
   "execution_count": 11,
   "metadata": {},
   "outputs": [
    {
     "name": "stdout",
     "output_type": "stream",
     "text": [
      "[0.32, 0.41, 0.4, 0.41, 0.42, 0.42, 0.42, 0.41, 0.41, 0.4, 0.38, 0.4, 0.41, 0.33, 0.47, 0.46, 0.36, 0.36, 0.39, 0.38, 0.32, 0.37, 0.38, 0.38, 0.4, 0.41, 0.39, 0.39, 0.37, 0.28, 0.33, 0.39, 0.4, 0.42, 0.35, 0.36, 0.38, 0.39, 0.36, 0.39, 0.37, 0.37, 0.41, 0.3, 0.4, 0.41, 0.39, 0.37, 0.31, 0.41, 0.37, 0.35, 0.33, 0.39, 0.39, 0.39, 0.38, 0.37, 0.39, 0.39, 0.42, 0.43, 0.43, 0.39, 0.37, 0.43, 0.43, 0.41, 0.41, 0.44, 0.44, 0.43, 0.43, 0.41, 0.42, 0.44, 0.34, 0.4, 0.4, 0.38, 0.38, 0.41, 0.7, 0.34, 0.38, 0.44, 0.42, 0.39, 0.41, 0.32, 0.32, 0.39, 0.41, 0.43, 0.42, 0.39, 0.4, 0.39, 0.37, 0.33, 0.4, 0.43, 0.42, 0.4, 0.4, 0.4, 0.41, 0.38, 0.44, 0.38, 0.38, 0.42, 0.41, 0.35, 0.4, 0.44, 0.43, 0.31, 0.44, 0.29, 0.36, 0.4, 0.34, 0.34, 0.38, 0.49, 0.5, 0.36, 0.38, 0.4, 0.39, 0.38, 0.39, 0.38, 0.43, 0.44, 0.46, 0.44, 0.44, 0.43, 0.36, 0.33, 0.37, 0.38, 0.39, 0.4, 0.36, 0.38, 0.34, 0.36, 0.35, 0.32, 0.35, 0.39, 0.33, 0.32]\n"
     ]
    },
    {
     "data": {
      "text/plain": [
       "156"
      ]
     },
     "execution_count": 11,
     "metadata": {},
     "output_type": "execute_result"
    }
   ],
   "source": [
    "mar_c = []\n",
    "for i in mar_a:\n",
    "    mar_i = np.amin(i)\n",
    "    mar_c.append(mar_i)\n",
    "    \n",
    "print(mar_c)\n",
    "len(mar_c)"
   ]
  },
  {
   "cell_type": "code",
   "execution_count": 12,
   "metadata": {},
   "outputs": [
    {
     "data": {
      "text/plain": [
       "list"
      ]
     },
     "execution_count": 12,
     "metadata": {},
     "output_type": "execute_result"
    }
   ],
   "source": [
    "type(mar_c)"
   ]
  },
  {
   "cell_type": "code",
   "execution_count": 13,
   "metadata": {},
   "outputs": [],
   "source": [
    "dc = pd.DataFrame(\n",
    "    {'ear': ear_c,\n",
    "     'mar': mar_c,\n",
    "    })"
   ]
  },
  {
   "cell_type": "code",
   "execution_count": 14,
   "metadata": {},
   "outputs": [
    {
     "data": {
      "text/html": [
       "<div>\n",
       "<style scoped>\n",
       "    .dataframe tbody tr th:only-of-type {\n",
       "        vertical-align: middle;\n",
       "    }\n",
       "\n",
       "    .dataframe tbody tr th {\n",
       "        vertical-align: top;\n",
       "    }\n",
       "\n",
       "    .dataframe thead th {\n",
       "        text-align: right;\n",
       "    }\n",
       "</style>\n",
       "<table border=\"1\" class=\"dataframe\">\n",
       "  <thead>\n",
       "    <tr style=\"text-align: right;\">\n",
       "      <th></th>\n",
       "      <th>ear</th>\n",
       "      <th>mar</th>\n",
       "    </tr>\n",
       "  </thead>\n",
       "  <tbody>\n",
       "    <tr>\n",
       "      <td>0</td>\n",
       "      <td>0.31</td>\n",
       "      <td>0.32</td>\n",
       "    </tr>\n",
       "    <tr>\n",
       "      <td>1</td>\n",
       "      <td>0.33</td>\n",
       "      <td>0.41</td>\n",
       "    </tr>\n",
       "    <tr>\n",
       "      <td>2</td>\n",
       "      <td>0.33</td>\n",
       "      <td>0.40</td>\n",
       "    </tr>\n",
       "    <tr>\n",
       "      <td>3</td>\n",
       "      <td>0.30</td>\n",
       "      <td>0.41</td>\n",
       "    </tr>\n",
       "    <tr>\n",
       "      <td>4</td>\n",
       "      <td>0.33</td>\n",
       "      <td>0.42</td>\n",
       "    </tr>\n",
       "  </tbody>\n",
       "</table>\n",
       "</div>"
      ],
      "text/plain": [
       "    ear   mar\n",
       "0  0.31  0.32\n",
       "1  0.33  0.41\n",
       "2  0.33  0.40\n",
       "3  0.30  0.41\n",
       "4  0.33  0.42"
      ]
     },
     "execution_count": 14,
     "metadata": {},
     "output_type": "execute_result"
    }
   ],
   "source": [
    "dc.head()"
   ]
  },
  {
   "cell_type": "code",
   "execution_count": 15,
   "metadata": {},
   "outputs": [
    {
     "data": {
      "text/plain": [
       "(156, 2)"
      ]
     },
     "execution_count": 15,
     "metadata": {},
     "output_type": "execute_result"
    }
   ],
   "source": [
    "dc.shape\n"
   ]
  },
  {
   "cell_type": "code",
   "execution_count": 16,
   "metadata": {},
   "outputs": [],
   "source": [
    "dc.to_csv('Person 3/notdrowsy_cleaned_P3_v2.csv', index=False)"
   ]
  },
  {
   "cell_type": "code",
   "execution_count": null,
   "metadata": {},
   "outputs": [],
   "source": []
  }
 ],
 "metadata": {
  "kernelspec": {
   "display_name": "Python 3",
   "language": "python",
   "name": "python3"
  },
  "language_info": {
   "codemirror_mode": {
    "name": "ipython",
    "version": 3
   },
   "file_extension": ".py",
   "mimetype": "text/x-python",
   "name": "python",
   "nbconvert_exporter": "python",
   "pygments_lexer": "ipython3",
   "version": "3.7.4"
  }
 },
 "nbformat": 4,
 "nbformat_minor": 2
}
