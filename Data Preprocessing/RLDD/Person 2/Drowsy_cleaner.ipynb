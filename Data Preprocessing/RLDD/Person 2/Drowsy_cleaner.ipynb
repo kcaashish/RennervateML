{
 "cells": [
  {
   "cell_type": "code",
   "execution_count": 1,
   "metadata": {},
   "outputs": [],
   "source": [
    "import pandas as pd\n",
    "import numpy as np"
   ]
  },
  {
   "cell_type": "code",
   "execution_count": 2,
   "metadata": {},
   "outputs": [
    {
     "data": {
      "text/html": [
       "<div>\n",
       "<style scoped>\n",
       "    .dataframe tbody tr th:only-of-type {\n",
       "        vertical-align: middle;\n",
       "    }\n",
       "\n",
       "    .dataframe tbody tr th {\n",
       "        vertical-align: top;\n",
       "    }\n",
       "\n",
       "    .dataframe thead th {\n",
       "        text-align: right;\n",
       "    }\n",
       "</style>\n",
       "<table border=\"1\" class=\"dataframe\">\n",
       "  <thead>\n",
       "    <tr style=\"text-align: right;\">\n",
       "      <th></th>\n",
       "      <th>ear</th>\n",
       "      <th>mar</th>\n",
       "    </tr>\n",
       "  </thead>\n",
       "  <tbody>\n",
       "    <tr>\n",
       "      <td>0</td>\n",
       "      <td>0.28</td>\n",
       "      <td>0.38</td>\n",
       "    </tr>\n",
       "    <tr>\n",
       "      <td>1</td>\n",
       "      <td>0.29</td>\n",
       "      <td>0.41</td>\n",
       "    </tr>\n",
       "    <tr>\n",
       "      <td>2</td>\n",
       "      <td>0.29</td>\n",
       "      <td>0.39</td>\n",
       "    </tr>\n",
       "    <tr>\n",
       "      <td>3</td>\n",
       "      <td>0.27</td>\n",
       "      <td>0.39</td>\n",
       "    </tr>\n",
       "    <tr>\n",
       "      <td>4</td>\n",
       "      <td>0.27</td>\n",
       "      <td>0.38</td>\n",
       "    </tr>\n",
       "  </tbody>\n",
       "</table>\n",
       "</div>"
      ],
      "text/plain": [
       "    ear   mar\n",
       "0  0.28  0.38\n",
       "1  0.29  0.41\n",
       "2  0.29  0.39\n",
       "3  0.27  0.39\n",
       "4  0.27  0.38"
      ]
     },
     "execution_count": 2,
     "metadata": {},
     "output_type": "execute_result"
    }
   ],
   "source": [
    "df = pd.read_csv('Person 2/drowsy_P2.csv')\n",
    "df.head()"
   ]
  },
  {
   "cell_type": "code",
   "execution_count": 3,
   "metadata": {},
   "outputs": [
    {
     "data": {
      "text/plain": [
       "array([[0.38],\n",
       "       [0.41],\n",
       "       [0.39],\n",
       "       [0.39],\n",
       "       [0.38],\n",
       "       [0.4 ],\n",
       "       [0.41],\n",
       "       [0.42],\n",
       "       [0.44],\n",
       "       [0.45],\n",
       "       [0.45],\n",
       "       [0.48],\n",
       "       [0.54],\n",
       "       [0.52],\n",
       "       [0.44],\n",
       "       [0.4 ],\n",
       "       [0.4 ],\n",
       "       [0.41],\n",
       "       [0.4 ],\n",
       "       [0.41],\n",
       "       [0.42],\n",
       "       [0.43],\n",
       "       [0.43],\n",
       "       [0.45],\n",
       "       [0.45],\n",
       "       [0.45],\n",
       "       [0.45],\n",
       "       [0.45],\n",
       "       [0.45],\n",
       "       [0.47],\n",
       "       [0.47],\n",
       "       [0.5 ],\n",
       "       [0.52],\n",
       "       [0.55],\n",
       "       [0.55],\n",
       "       [0.57],\n",
       "       [0.58],\n",
       "       [0.56],\n",
       "       [0.56],\n",
       "       [0.55],\n",
       "       [0.54],\n",
       "       [0.53],\n",
       "       [0.52],\n",
       "       [0.51],\n",
       "       [0.52],\n",
       "       [0.52],\n",
       "       [0.5 ],\n",
       "       [0.48],\n",
       "       [0.48],\n",
       "       [0.48],\n",
       "       [0.48],\n",
       "       [0.48],\n",
       "       [0.47],\n",
       "       [0.47],\n",
       "       [0.45],\n",
       "       [0.45],\n",
       "       [0.45],\n",
       "       [0.43],\n",
       "       [0.44],\n",
       "       [0.42],\n",
       "       [0.42],\n",
       "       [0.4 ],\n",
       "       [0.4 ],\n",
       "       [0.41],\n",
       "       [0.41],\n",
       "       [0.41],\n",
       "       [0.42],\n",
       "       [0.41],\n",
       "       [0.41],\n",
       "       [0.41],\n",
       "       [0.41],\n",
       "       [0.41],\n",
       "       [0.41],\n",
       "       [0.41],\n",
       "       [0.41],\n",
       "       [0.41],\n",
       "       [0.41],\n",
       "       [0.41],\n",
       "       [0.43],\n",
       "       [0.42],\n",
       "       [0.42],\n",
       "       [0.42],\n",
       "       [0.42],\n",
       "       [0.43],\n",
       "       [0.42],\n",
       "       [0.43],\n",
       "       [0.43],\n",
       "       [0.43],\n",
       "       [0.42],\n",
       "       [0.42],\n",
       "       [0.42],\n",
       "       [0.42],\n",
       "       [0.42],\n",
       "       [0.42],\n",
       "       [0.43],\n",
       "       [0.43],\n",
       "       [0.43],\n",
       "       [0.43],\n",
       "       [0.44],\n",
       "       [0.45],\n",
       "       [0.44],\n",
       "       [0.44],\n",
       "       [0.43],\n",
       "       [0.44],\n",
       "       [0.44],\n",
       "       [0.44],\n",
       "       [0.43],\n",
       "       [0.44],\n",
       "       [0.44],\n",
       "       [0.44],\n",
       "       [0.44],\n",
       "       [0.44],\n",
       "       [0.43],\n",
       "       [0.44],\n",
       "       [0.44],\n",
       "       [0.44],\n",
       "       [0.43],\n",
       "       [0.44],\n",
       "       [0.44],\n",
       "       [0.43],\n",
       "       [0.44],\n",
       "       [0.44],\n",
       "       [0.44],\n",
       "       [0.44],\n",
       "       [0.44],\n",
       "       [0.43],\n",
       "       [0.44],\n",
       "       [0.44],\n",
       "       [0.43],\n",
       "       [0.44],\n",
       "       [0.44],\n",
       "       [0.44],\n",
       "       [0.44],\n",
       "       [0.44],\n",
       "       [0.44],\n",
       "       [0.44],\n",
       "       [0.45],\n",
       "       [0.44],\n",
       "       [0.43],\n",
       "       [0.44],\n",
       "       [0.43],\n",
       "       [0.44],\n",
       "       [0.44],\n",
       "       [0.45],\n",
       "       [0.45],\n",
       "       [0.44],\n",
       "       [0.44],\n",
       "       [0.44],\n",
       "       [0.44],\n",
       "       [0.44],\n",
       "       [0.45],\n",
       "       [0.44],\n",
       "       [0.43],\n",
       "       [0.43],\n",
       "       [0.44],\n",
       "       [0.44],\n",
       "       [0.45],\n",
       "       [0.44],\n",
       "       [0.44],\n",
       "       [0.44],\n",
       "       [0.44],\n",
       "       [0.44],\n",
       "       [0.44],\n",
       "       [0.44],\n",
       "       [0.44],\n",
       "       [0.44],\n",
       "       [0.45],\n",
       "       [0.44],\n",
       "       [0.44],\n",
       "       [0.45],\n",
       "       [0.45],\n",
       "       [0.46],\n",
       "       [0.45],\n",
       "       [0.44],\n",
       "       [0.44],\n",
       "       [0.44],\n",
       "       [0.45],\n",
       "       [0.45],\n",
       "       [0.44],\n",
       "       [0.45],\n",
       "       [0.44],\n",
       "       [0.45],\n",
       "       [0.44],\n",
       "       [0.44],\n",
       "       [0.44],\n",
       "       [0.44],\n",
       "       [0.44],\n",
       "       [0.44],\n",
       "       [0.44],\n",
       "       [0.44],\n",
       "       [0.44],\n",
       "       [0.44],\n",
       "       [0.45],\n",
       "       [0.44],\n",
       "       [0.44],\n",
       "       [0.44],\n",
       "       [0.46],\n",
       "       [0.43],\n",
       "       [0.43],\n",
       "       [0.46],\n",
       "       [0.45],\n",
       "       [0.45],\n",
       "       [0.44],\n",
       "       [0.44],\n",
       "       [0.44],\n",
       "       [0.43],\n",
       "       [0.44],\n",
       "       [0.43],\n",
       "       [0.43],\n",
       "       [0.42],\n",
       "       [0.43],\n",
       "       [0.43],\n",
       "       [0.43],\n",
       "       [0.43],\n",
       "       [0.42],\n",
       "       [0.42],\n",
       "       [0.43],\n",
       "       [0.4 ],\n",
       "       [0.39],\n",
       "       [0.37],\n",
       "       [0.38],\n",
       "       [0.39],\n",
       "       [0.37],\n",
       "       [0.36],\n",
       "       [0.38],\n",
       "       [0.37],\n",
       "       [0.37],\n",
       "       [0.35],\n",
       "       [0.37],\n",
       "       [0.36],\n",
       "       [0.37],\n",
       "       [0.38],\n",
       "       [0.38],\n",
       "       [0.39],\n",
       "       [0.42],\n",
       "       [0.41],\n",
       "       [0.42],\n",
       "       [0.41],\n",
       "       [0.42],\n",
       "       [0.43],\n",
       "       [0.43],\n",
       "       [0.43],\n",
       "       [0.45],\n",
       "       [0.45],\n",
       "       [0.47],\n",
       "       [0.47],\n",
       "       [0.4 ],\n",
       "       [0.38],\n",
       "       [0.37],\n",
       "       [0.38],\n",
       "       [0.38],\n",
       "       [0.38],\n",
       "       [0.39],\n",
       "       [0.39],\n",
       "       [0.39],\n",
       "       [0.4 ],\n",
       "       [0.4 ],\n",
       "       [0.41],\n",
       "       [0.4 ],\n",
       "       [0.41],\n",
       "       [0.41],\n",
       "       [0.43],\n",
       "       [0.46],\n",
       "       [0.49],\n",
       "       [0.52],\n",
       "       [0.54],\n",
       "       [0.55],\n",
       "       [0.55],\n",
       "       [0.55],\n",
       "       [0.55],\n",
       "       [0.55],\n",
       "       [0.55],\n",
       "       [0.55],\n",
       "       [0.54],\n",
       "       [0.54],\n",
       "       [0.52],\n",
       "       [0.53],\n",
       "       [0.52],\n",
       "       [0.53],\n",
       "       [0.52],\n",
       "       [0.52],\n",
       "       [0.51],\n",
       "       [0.51],\n",
       "       [0.5 ],\n",
       "       [0.5 ],\n",
       "       [0.5 ],\n",
       "       [0.5 ],\n",
       "       [0.51],\n",
       "       [0.5 ],\n",
       "       [0.5 ],\n",
       "       [0.5 ],\n",
       "       [0.51],\n",
       "       [0.5 ],\n",
       "       [0.49],\n",
       "       [0.51],\n",
       "       [0.49],\n",
       "       [0.5 ],\n",
       "       [0.49],\n",
       "       [0.49],\n",
       "       [0.49],\n",
       "       [0.51],\n",
       "       [0.49],\n",
       "       [0.5 ],\n",
       "       [0.5 ],\n",
       "       [0.5 ],\n",
       "       [0.49],\n",
       "       [0.49],\n",
       "       [0.5 ],\n",
       "       [0.49],\n",
       "       [0.5 ],\n",
       "       [0.5 ],\n",
       "       [0.49],\n",
       "       [0.49],\n",
       "       [0.5 ],\n",
       "       [0.49],\n",
       "       [0.5 ],\n",
       "       [0.5 ],\n",
       "       [0.5 ],\n",
       "       [0.5 ],\n",
       "       [0.48],\n",
       "       [0.51],\n",
       "       [0.5 ],\n",
       "       [0.5 ],\n",
       "       [0.49],\n",
       "       [0.5 ],\n",
       "       [0.5 ],\n",
       "       [0.5 ],\n",
       "       [0.5 ],\n",
       "       [0.5 ],\n",
       "       [0.5 ],\n",
       "       [0.5 ],\n",
       "       [0.49],\n",
       "       [0.51],\n",
       "       [0.5 ],\n",
       "       [0.49],\n",
       "       [0.49],\n",
       "       [0.5 ],\n",
       "       [0.49],\n",
       "       [0.49],\n",
       "       [0.49],\n",
       "       [0.5 ],\n",
       "       [0.5 ],\n",
       "       [0.5 ],\n",
       "       [0.49],\n",
       "       [0.49],\n",
       "       [0.49],\n",
       "       [0.5 ],\n",
       "       [0.5 ],\n",
       "       [0.51],\n",
       "       [0.52],\n",
       "       [0.51],\n",
       "       [0.5 ],\n",
       "       [0.5 ],\n",
       "       [0.5 ],\n",
       "       [0.51],\n",
       "       [0.51],\n",
       "       [0.5 ],\n",
       "       [0.49],\n",
       "       [0.49],\n",
       "       [0.5 ],\n",
       "       [0.51],\n",
       "       [0.5 ],\n",
       "       [0.5 ],\n",
       "       [0.49],\n",
       "       [0.49],\n",
       "       [0.5 ],\n",
       "       [0.5 ],\n",
       "       [0.5 ],\n",
       "       [0.5 ],\n",
       "       [0.5 ],\n",
       "       [0.51],\n",
       "       [0.51],\n",
       "       [0.51],\n",
       "       [0.5 ],\n",
       "       [0.51],\n",
       "       [0.49],\n",
       "       [0.5 ],\n",
       "       [0.51],\n",
       "       [0.5 ],\n",
       "       [0.49],\n",
       "       [0.51],\n",
       "       [0.5 ],\n",
       "       [0.5 ],\n",
       "       [0.5 ],\n",
       "       [0.5 ],\n",
       "       [0.5 ],\n",
       "       [0.5 ],\n",
       "       [0.5 ],\n",
       "       [0.5 ],\n",
       "       [0.51],\n",
       "       [0.51],\n",
       "       [0.5 ],\n",
       "       [0.51],\n",
       "       [0.51],\n",
       "       [0.51],\n",
       "       [0.51],\n",
       "       [0.5 ],\n",
       "       [0.5 ],\n",
       "       [0.5 ],\n",
       "       [0.49],\n",
       "       [0.49],\n",
       "       [0.5 ],\n",
       "       [0.51],\n",
       "       [0.51],\n",
       "       [0.52],\n",
       "       [0.53],\n",
       "       [0.54],\n",
       "       [0.52],\n",
       "       [0.53],\n",
       "       [0.51],\n",
       "       [0.51],\n",
       "       [0.51],\n",
       "       [0.52],\n",
       "       [0.53],\n",
       "       [0.52],\n",
       "       [0.52],\n",
       "       [0.51],\n",
       "       [0.52],\n",
       "       [0.52],\n",
       "       [0.49],\n",
       "       [0.51],\n",
       "       [0.49],\n",
       "       [0.47],\n",
       "       [0.45],\n",
       "       [0.39],\n",
       "       [0.37],\n",
       "       [0.36],\n",
       "       [0.38],\n",
       "       [0.4 ],\n",
       "       [0.41],\n",
       "       [0.41],\n",
       "       [0.42],\n",
       "       [0.43],\n",
       "       [0.43],\n",
       "       [0.43],\n",
       "       [0.44],\n",
       "       [0.44],\n",
       "       [0.43],\n",
       "       [0.44],\n",
       "       [0.44],\n",
       "       [0.43],\n",
       "       [0.44],\n",
       "       [0.43],\n",
       "       [0.44],\n",
       "       [0.43],\n",
       "       [0.44],\n",
       "       [0.44],\n",
       "       [0.45],\n",
       "       [0.44],\n",
       "       [0.44],\n",
       "       [0.43],\n",
       "       [0.43],\n",
       "       [0.42],\n",
       "       [0.44],\n",
       "       [0.44],\n",
       "       [0.43],\n",
       "       [0.44],\n",
       "       [0.44],\n",
       "       [0.44],\n",
       "       [0.43],\n",
       "       [0.44],\n",
       "       [0.43],\n",
       "       [0.44],\n",
       "       [0.44],\n",
       "       [0.44],\n",
       "       [0.44],\n",
       "       [0.43],\n",
       "       [0.44],\n",
       "       [0.43],\n",
       "       [0.43],\n",
       "       [0.43],\n",
       "       [0.45],\n",
       "       [0.43],\n",
       "       [0.43],\n",
       "       [0.43],\n",
       "       [0.44],\n",
       "       [0.44],\n",
       "       [0.44],\n",
       "       [0.44],\n",
       "       [0.44],\n",
       "       [0.45],\n",
       "       [0.44],\n",
       "       [0.43],\n",
       "       [0.44],\n",
       "       [0.44],\n",
       "       [0.45],\n",
       "       [0.44],\n",
       "       [0.43],\n",
       "       [0.44],\n",
       "       [0.44],\n",
       "       [0.43],\n",
       "       [0.43],\n",
       "       [0.43],\n",
       "       [0.43],\n",
       "       [0.44],\n",
       "       [0.44],\n",
       "       [0.43],\n",
       "       [0.44],\n",
       "       [0.43],\n",
       "       [0.44],\n",
       "       [0.44],\n",
       "       [0.44],\n",
       "       [0.44],\n",
       "       [0.43],\n",
       "       [0.43],\n",
       "       [0.44],\n",
       "       [0.44],\n",
       "       [0.44],\n",
       "       [0.43],\n",
       "       [0.43],\n",
       "       [0.43],\n",
       "       [0.43],\n",
       "       [0.44],\n",
       "       [0.44],\n",
       "       [0.45],\n",
       "       [0.44],\n",
       "       [0.45],\n",
       "       [0.44],\n",
       "       [0.44],\n",
       "       [0.44],\n",
       "       [0.44],\n",
       "       [0.44],\n",
       "       [0.44],\n",
       "       [0.44],\n",
       "       [0.45],\n",
       "       [0.43],\n",
       "       [0.45],\n",
       "       [0.45],\n",
       "       [0.44],\n",
       "       [0.45],\n",
       "       [0.43],\n",
       "       [0.44],\n",
       "       [0.44],\n",
       "       [0.44],\n",
       "       [0.44],\n",
       "       [0.44],\n",
       "       [0.44],\n",
       "       [0.44],\n",
       "       [0.44],\n",
       "       [0.44],\n",
       "       [0.43],\n",
       "       [0.44],\n",
       "       [0.44],\n",
       "       [0.44],\n",
       "       [0.44],\n",
       "       [0.43],\n",
       "       [0.44],\n",
       "       [0.42],\n",
       "       [0.43],\n",
       "       [0.43],\n",
       "       [0.43],\n",
       "       [0.44],\n",
       "       [0.44],\n",
       "       [0.44],\n",
       "       [0.43],\n",
       "       [0.43],\n",
       "       [0.43],\n",
       "       [0.43],\n",
       "       [0.43],\n",
       "       [0.43],\n",
       "       [0.43],\n",
       "       [0.44],\n",
       "       [0.44],\n",
       "       [0.44],\n",
       "       [0.44],\n",
       "       [0.43],\n",
       "       [0.44],\n",
       "       [0.44],\n",
       "       [0.44],\n",
       "       [0.43],\n",
       "       [0.44],\n",
       "       [0.43],\n",
       "       [0.44],\n",
       "       [0.45],\n",
       "       [0.44],\n",
       "       [0.43],\n",
       "       [0.44],\n",
       "       [0.43],\n",
       "       [0.44],\n",
       "       [0.43],\n",
       "       [0.44],\n",
       "       [0.44],\n",
       "       [0.44],\n",
       "       [0.44],\n",
       "       [0.44],\n",
       "       [0.44],\n",
       "       [0.44],\n",
       "       [0.44],\n",
       "       [0.44],\n",
       "       [0.44],\n",
       "       [0.43],\n",
       "       [0.43],\n",
       "       [0.44],\n",
       "       [0.43],\n",
       "       [0.43],\n",
       "       [0.43],\n",
       "       [0.44],\n",
       "       [0.43],\n",
       "       [0.44],\n",
       "       [0.43],\n",
       "       [0.43],\n",
       "       [0.43],\n",
       "       [0.45],\n",
       "       [0.44]])"
      ]
     },
     "execution_count": 3,
     "metadata": {},
     "output_type": "execute_result"
    }
   ],
   "source": [
    "df.iloc[:,1:].values"
   ]
  },
  {
   "cell_type": "code",
   "execution_count": 4,
   "metadata": {},
   "outputs": [
    {
     "data": {
      "text/plain": [
       "(604, 604)"
      ]
     },
     "execution_count": 4,
     "metadata": {},
     "output_type": "execute_result"
    }
   ],
   "source": [
    "import math\n",
    "ear=df.iloc[:,0:1].values\n",
    "mar = df.iloc[:,1:].values\n",
    "len(ear), len(mar)\n",
    "\n"
   ]
  },
  {
   "cell_type": "code",
   "execution_count": 5,
   "metadata": {},
   "outputs": [
    {
     "data": {
      "text/plain": [
       "61"
      ]
     },
     "execution_count": 5,
     "metadata": {},
     "output_type": "execute_result"
    }
   ],
   "source": [
    "n = math.ceil(len(ear)/10)\n",
    "n"
   ]
  },
  {
   "cell_type": "code",
   "execution_count": 6,
   "metadata": {},
   "outputs": [],
   "source": [
    "ear_a = np.array_split(ear, n)\n",
    "mar_a = np.array_split(mar, n)"
   ]
  },
  {
   "cell_type": "code",
   "execution_count": 7,
   "metadata": {},
   "outputs": [
    {
     "name": "stdout",
     "output_type": "stream",
     "text": [
      "[0.19, 0.2, 0.19, 0.34, 0.26, 0.23, 0.21, 0.33, 0.21, 0.26, 0.34, 0.21, 0.35, 0.22, 0.35, 0.21, 0.32, 0.23, 0.22, 0.24, 0.21, 0.2, 0.16, 0.29, 0.18, 0.15, 0.2, 0.29, 0.26, 0.2, 0.2, 0.2, 0.29, 0.3, 0.22, 0.21, 0.23, 0.28, 0.2, 0.2, 0.17, 0.18, 0.28, 0.27, 0.16, 0.26, 0.21, 0.26, 0.18, 0.29, 0.27, 0.18, 0.21, 0.26, 0.27, 0.19, 0.27, 0.29, 0.29, 0.19, 0.28]\n"
     ]
    },
    {
     "data": {
      "text/plain": [
       "61"
      ]
     },
     "execution_count": 7,
     "metadata": {},
     "output_type": "execute_result"
    }
   ],
   "source": [
    "ear_c = []\n",
    "for i in ear_a:\n",
    "    ear_i = np.amin(i)\n",
    "    ear_c.append(ear_i)\n",
    "    \n",
    "print(ear_c)\n",
    "len(ear_c)"
   ]
  },
  {
   "cell_type": "code",
   "execution_count": 8,
   "metadata": {},
   "outputs": [
    {
     "name": "stdout",
     "output_type": "stream",
     "text": [
      "[0.45, 0.54, 0.47, 0.58, 0.54, 0.48, 0.42, 0.43, 0.43, 0.45, 0.44, 0.44, 0.44, 0.45, 0.45, 0.45, 0.45, 0.46, 0.45, 0.46, 0.45, 0.43, 0.39, 0.43, 0.47, 0.41, 0.55, 0.55, 0.52, 0.51, 0.51, 0.5, 0.51, 0.51, 0.52, 0.51, 0.51, 0.51, 0.51, 0.51, 0.54, 0.53, 0.51, 0.44, 0.45, 0.44, 0.44, 0.45, 0.45, 0.44, 0.44, 0.45, 0.45, 0.44, 0.44, 0.44, 0.44, 0.45, 0.44, 0.44, 0.45]\n"
     ]
    },
    {
     "data": {
      "text/plain": [
       "61"
      ]
     },
     "execution_count": 8,
     "metadata": {},
     "output_type": "execute_result"
    }
   ],
   "source": [
    "mar_c = []\n",
    "for i in mar_a:\n",
    "    mar_i = np.amax(i)\n",
    "    mar_c.append(mar_i)\n",
    "    \n",
    "print(mar_c)\n",
    "len(mar_c)"
   ]
  },
  {
   "cell_type": "code",
   "execution_count": 9,
   "metadata": {},
   "outputs": [
    {
     "data": {
      "text/plain": [
       "list"
      ]
     },
     "execution_count": 9,
     "metadata": {},
     "output_type": "execute_result"
    }
   ],
   "source": [
    "type(mar_c)"
   ]
  },
  {
   "cell_type": "code",
   "execution_count": 10,
   "metadata": {},
   "outputs": [],
   "source": [
    "dc = pd.DataFrame(\n",
    "    {'ear': ear_c,\n",
    "     'mar': mar_c,\n",
    "    })"
   ]
  },
  {
   "cell_type": "code",
   "execution_count": 11,
   "metadata": {},
   "outputs": [
    {
     "data": {
      "text/html": [
       "<div>\n",
       "<style scoped>\n",
       "    .dataframe tbody tr th:only-of-type {\n",
       "        vertical-align: middle;\n",
       "    }\n",
       "\n",
       "    .dataframe tbody tr th {\n",
       "        vertical-align: top;\n",
       "    }\n",
       "\n",
       "    .dataframe thead th {\n",
       "        text-align: right;\n",
       "    }\n",
       "</style>\n",
       "<table border=\"1\" class=\"dataframe\">\n",
       "  <thead>\n",
       "    <tr style=\"text-align: right;\">\n",
       "      <th></th>\n",
       "      <th>ear</th>\n",
       "      <th>mar</th>\n",
       "    </tr>\n",
       "  </thead>\n",
       "  <tbody>\n",
       "    <tr>\n",
       "      <td>0</td>\n",
       "      <td>0.19</td>\n",
       "      <td>0.45</td>\n",
       "    </tr>\n",
       "    <tr>\n",
       "      <td>1</td>\n",
       "      <td>0.20</td>\n",
       "      <td>0.54</td>\n",
       "    </tr>\n",
       "    <tr>\n",
       "      <td>2</td>\n",
       "      <td>0.19</td>\n",
       "      <td>0.47</td>\n",
       "    </tr>\n",
       "    <tr>\n",
       "      <td>3</td>\n",
       "      <td>0.34</td>\n",
       "      <td>0.58</td>\n",
       "    </tr>\n",
       "    <tr>\n",
       "      <td>4</td>\n",
       "      <td>0.26</td>\n",
       "      <td>0.54</td>\n",
       "    </tr>\n",
       "  </tbody>\n",
       "</table>\n",
       "</div>"
      ],
      "text/plain": [
       "    ear   mar\n",
       "0  0.19  0.45\n",
       "1  0.20  0.54\n",
       "2  0.19  0.47\n",
       "3  0.34  0.58\n",
       "4  0.26  0.54"
      ]
     },
     "execution_count": 11,
     "metadata": {},
     "output_type": "execute_result"
    }
   ],
   "source": [
    "dc.head()"
   ]
  },
  {
   "cell_type": "code",
   "execution_count": 12,
   "metadata": {},
   "outputs": [
    {
     "data": {
      "text/plain": [
       "(61, 2)"
      ]
     },
     "execution_count": 12,
     "metadata": {},
     "output_type": "execute_result"
    }
   ],
   "source": [
    "dc.shape\n"
   ]
  },
  {
   "cell_type": "code",
   "execution_count": 13,
   "metadata": {},
   "outputs": [],
   "source": [
    "dc.to_csv('Person 2/drowsy_cleaned_P2.csv', index=False)"
   ]
  },
  {
   "cell_type": "markdown",
   "metadata": {},
   "source": [
    "## Second Phase"
   ]
  },
  {
   "cell_type": "code",
   "execution_count": 14,
   "metadata": {},
   "outputs": [],
   "source": [
    "df =dc"
   ]
  },
  {
   "cell_type": "code",
   "execution_count": 15,
   "metadata": {},
   "outputs": [
    {
     "data": {
      "text/plain": [
       "array([[0.45],\n",
       "       [0.54],\n",
       "       [0.47],\n",
       "       [0.58],\n",
       "       [0.54],\n",
       "       [0.48],\n",
       "       [0.42],\n",
       "       [0.43],\n",
       "       [0.43],\n",
       "       [0.45],\n",
       "       [0.44],\n",
       "       [0.44],\n",
       "       [0.44],\n",
       "       [0.45],\n",
       "       [0.45],\n",
       "       [0.45],\n",
       "       [0.45],\n",
       "       [0.46],\n",
       "       [0.45],\n",
       "       [0.46],\n",
       "       [0.45],\n",
       "       [0.43],\n",
       "       [0.39],\n",
       "       [0.43],\n",
       "       [0.47],\n",
       "       [0.41],\n",
       "       [0.55],\n",
       "       [0.55],\n",
       "       [0.52],\n",
       "       [0.51],\n",
       "       [0.51],\n",
       "       [0.5 ],\n",
       "       [0.51],\n",
       "       [0.51],\n",
       "       [0.52],\n",
       "       [0.51],\n",
       "       [0.51],\n",
       "       [0.51],\n",
       "       [0.51],\n",
       "       [0.51],\n",
       "       [0.54],\n",
       "       [0.53],\n",
       "       [0.51],\n",
       "       [0.44],\n",
       "       [0.45],\n",
       "       [0.44],\n",
       "       [0.44],\n",
       "       [0.45],\n",
       "       [0.45],\n",
       "       [0.44],\n",
       "       [0.44],\n",
       "       [0.45],\n",
       "       [0.45],\n",
       "       [0.44],\n",
       "       [0.44],\n",
       "       [0.44],\n",
       "       [0.44],\n",
       "       [0.45],\n",
       "       [0.44],\n",
       "       [0.44],\n",
       "       [0.45]])"
      ]
     },
     "execution_count": 15,
     "metadata": {},
     "output_type": "execute_result"
    }
   ],
   "source": [
    "df.iloc[:,1:].values"
   ]
  },
  {
   "cell_type": "code",
   "execution_count": 16,
   "metadata": {},
   "outputs": [
    {
     "data": {
      "text/plain": [
       "(61, 61)"
      ]
     },
     "execution_count": 16,
     "metadata": {},
     "output_type": "execute_result"
    }
   ],
   "source": [
    "import math\n",
    "ear=df.iloc[:,0:1].values\n",
    "mar = df.iloc[:,1:].values\n",
    "len(ear), len(mar)\n",
    "\n"
   ]
  },
  {
   "cell_type": "code",
   "execution_count": 17,
   "metadata": {},
   "outputs": [
    {
     "data": {
      "text/plain": [
       "31"
      ]
     },
     "execution_count": 17,
     "metadata": {},
     "output_type": "execute_result"
    }
   ],
   "source": [
    "n = math.ceil(len(ear)/2)\n",
    "n"
   ]
  },
  {
   "cell_type": "code",
   "execution_count": 18,
   "metadata": {},
   "outputs": [],
   "source": [
    "ear_a = np.array_split(ear, n)\n",
    "mar_a = np.array_split(mar, n)"
   ]
  },
  {
   "cell_type": "code",
   "execution_count": 19,
   "metadata": {},
   "outputs": [
    {
     "name": "stdout",
     "output_type": "stream",
     "text": [
      "[0.19, 0.19, 0.23, 0.21, 0.21, 0.21, 0.22, 0.21, 0.23, 0.22, 0.2, 0.16, 0.15, 0.2, 0.2, 0.2, 0.29, 0.21, 0.23, 0.2, 0.17, 0.27, 0.16, 0.21, 0.18, 0.18, 0.21, 0.19, 0.27, 0.19, 0.28]\n"
     ]
    },
    {
     "data": {
      "text/plain": [
       "31"
      ]
     },
     "execution_count": 19,
     "metadata": {},
     "output_type": "execute_result"
    }
   ],
   "source": [
    "ear_c = []\n",
    "for i in ear_a:\n",
    "    ear_i = np.amin(i)\n",
    "    ear_c.append(ear_i)\n",
    "    \n",
    "print(ear_c)\n",
    "len(ear_c)"
   ]
  },
  {
   "cell_type": "code",
   "execution_count": 20,
   "metadata": {},
   "outputs": [
    {
     "name": "stdout",
     "output_type": "stream",
     "text": [
      "[0.54, 0.58, 0.54, 0.43, 0.45, 0.44, 0.45, 0.45, 0.46, 0.46, 0.45, 0.43, 0.47, 0.55, 0.52, 0.51, 0.51, 0.52, 0.51, 0.51, 0.54, 0.51, 0.45, 0.45, 0.45, 0.45, 0.45, 0.44, 0.45, 0.44, 0.45]\n"
     ]
    },
    {
     "data": {
      "text/plain": [
       "31"
      ]
     },
     "execution_count": 20,
     "metadata": {},
     "output_type": "execute_result"
    }
   ],
   "source": [
    "mar_c = []\n",
    "for i in mar_a:\n",
    "    mar_i = np.amax(i)\n",
    "    mar_c.append(mar_i)\n",
    "    \n",
    "print(mar_c)\n",
    "len(mar_c)"
   ]
  },
  {
   "cell_type": "code",
   "execution_count": 21,
   "metadata": {},
   "outputs": [
    {
     "data": {
      "text/plain": [
       "list"
      ]
     },
     "execution_count": 21,
     "metadata": {},
     "output_type": "execute_result"
    }
   ],
   "source": [
    "type(mar_c)"
   ]
  },
  {
   "cell_type": "code",
   "execution_count": 22,
   "metadata": {},
   "outputs": [],
   "source": [
    "dc = pd.DataFrame(\n",
    "    {'ear': ear_c,\n",
    "     'mar': mar_c,\n",
    "    })"
   ]
  },
  {
   "cell_type": "code",
   "execution_count": 23,
   "metadata": {},
   "outputs": [
    {
     "data": {
      "text/html": [
       "<div>\n",
       "<style scoped>\n",
       "    .dataframe tbody tr th:only-of-type {\n",
       "        vertical-align: middle;\n",
       "    }\n",
       "\n",
       "    .dataframe tbody tr th {\n",
       "        vertical-align: top;\n",
       "    }\n",
       "\n",
       "    .dataframe thead th {\n",
       "        text-align: right;\n",
       "    }\n",
       "</style>\n",
       "<table border=\"1\" class=\"dataframe\">\n",
       "  <thead>\n",
       "    <tr style=\"text-align: right;\">\n",
       "      <th></th>\n",
       "      <th>ear</th>\n",
       "      <th>mar</th>\n",
       "    </tr>\n",
       "  </thead>\n",
       "  <tbody>\n",
       "    <tr>\n",
       "      <td>0</td>\n",
       "      <td>0.19</td>\n",
       "      <td>0.54</td>\n",
       "    </tr>\n",
       "    <tr>\n",
       "      <td>1</td>\n",
       "      <td>0.19</td>\n",
       "      <td>0.58</td>\n",
       "    </tr>\n",
       "    <tr>\n",
       "      <td>2</td>\n",
       "      <td>0.23</td>\n",
       "      <td>0.54</td>\n",
       "    </tr>\n",
       "    <tr>\n",
       "      <td>3</td>\n",
       "      <td>0.21</td>\n",
       "      <td>0.43</td>\n",
       "    </tr>\n",
       "    <tr>\n",
       "      <td>4</td>\n",
       "      <td>0.21</td>\n",
       "      <td>0.45</td>\n",
       "    </tr>\n",
       "  </tbody>\n",
       "</table>\n",
       "</div>"
      ],
      "text/plain": [
       "    ear   mar\n",
       "0  0.19  0.54\n",
       "1  0.19  0.58\n",
       "2  0.23  0.54\n",
       "3  0.21  0.43\n",
       "4  0.21  0.45"
      ]
     },
     "execution_count": 23,
     "metadata": {},
     "output_type": "execute_result"
    }
   ],
   "source": [
    "dc.head()"
   ]
  },
  {
   "cell_type": "code",
   "execution_count": 24,
   "metadata": {},
   "outputs": [
    {
     "data": {
      "text/plain": [
       "(31, 2)"
      ]
     },
     "execution_count": 24,
     "metadata": {},
     "output_type": "execute_result"
    }
   ],
   "source": [
    "dc.shape\n"
   ]
  },
  {
   "cell_type": "code",
   "execution_count": 26,
   "metadata": {},
   "outputs": [],
   "source": [
    "dc.to_csv('Person 2/drowsy_cleaned_P2_v2.csv', index=False)"
   ]
  },
  {
   "cell_type": "code",
   "execution_count": null,
   "metadata": {},
   "outputs": [],
   "source": []
  }
 ],
 "metadata": {
  "kernelspec": {
   "display_name": "Python 3",
   "language": "python",
   "name": "python3"
  },
  "language_info": {
   "codemirror_mode": {
    "name": "ipython",
    "version": 3
   },
   "file_extension": ".py",
   "mimetype": "text/x-python",
   "name": "python",
   "nbconvert_exporter": "python",
   "pygments_lexer": "ipython3",
   "version": "3.7.4"
  }
 },
 "nbformat": 4,
 "nbformat_minor": 2
}
